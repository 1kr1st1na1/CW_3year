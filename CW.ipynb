{
  "cells": [
    {
      "cell_type": "markdown",
      "metadata": {
        "id": "view-in-github",
        "colab_type": "text"
      },
      "source": [
        "<a href=\"https://colab.research.google.com/github/1kr1st1na1/CW_3year/blob/main/CW.ipynb\" target=\"_parent\"><img src=\"https://colab.research.google.com/assets/colab-badge.svg\" alt=\"Open In Colab\"/></a>"
      ]
    },
    {
      "cell_type": "code",
      "execution_count": null,
      "metadata": {
        "cellView": "form",
        "colab": {
          "base_uri": "https://localhost:8080/"
        },
        "id": "LDes1LhabpZA",
        "outputId": "6cef6bfd-9930-4701-c5ac-6d6badcedb53"
      },
      "outputs": [
        {
          "name": "stdout",
          "output_type": "stream",
          "text": [
            "Looking in indexes: https://pypi.org/simple, https://us-python.pkg.dev/colab-wheels/public/simple/\n",
            "Requirement already satisfied: gspread in /usr/local/lib/python3.9/dist-packages (5.8.0)\n",
            "Requirement already satisfied: google-auth-oauthlib>=0.4.1 in /usr/local/lib/python3.9/dist-packages (from gspread) (1.0.0)\n",
            "Requirement already satisfied: google-auth>=1.12.0 in /usr/local/lib/python3.9/dist-packages (from gspread) (2.17.1)\n",
            "Requirement already satisfied: cachetools<6.0,>=2.0.0 in /usr/local/lib/python3.9/dist-packages (from google-auth>=1.12.0->gspread) (5.3.0)\n",
            "Requirement already satisfied: six>=1.9.0 in /usr/local/lib/python3.9/dist-packages (from google-auth>=1.12.0->gspread) (1.16.0)\n",
            "Requirement already satisfied: rsa<5,>=3.1.4 in /usr/local/lib/python3.9/dist-packages (from google-auth>=1.12.0->gspread) (4.9)\n",
            "Requirement already satisfied: pyasn1-modules>=0.2.1 in /usr/local/lib/python3.9/dist-packages (from google-auth>=1.12.0->gspread) (0.2.8)\n",
            "Requirement already satisfied: requests-oauthlib>=0.7.0 in /usr/local/lib/python3.9/dist-packages (from google-auth-oauthlib>=0.4.1->gspread) (1.3.1)\n",
            "Requirement already satisfied: pyasn1<0.5.0,>=0.4.6 in /usr/local/lib/python3.9/dist-packages (from pyasn1-modules>=0.2.1->google-auth>=1.12.0->gspread) (0.4.8)\n",
            "Requirement already satisfied: requests>=2.0.0 in /usr/local/lib/python3.9/dist-packages (from requests-oauthlib>=0.7.0->google-auth-oauthlib>=0.4.1->gspread) (2.27.1)\n",
            "Requirement already satisfied: oauthlib>=3.0.0 in /usr/local/lib/python3.9/dist-packages (from requests-oauthlib>=0.7.0->google-auth-oauthlib>=0.4.1->gspread) (3.2.2)\n",
            "Requirement already satisfied: urllib3<1.27,>=1.21.1 in /usr/local/lib/python3.9/dist-packages (from requests>=2.0.0->requests-oauthlib>=0.7.0->google-auth-oauthlib>=0.4.1->gspread) (1.26.15)\n",
            "Requirement already satisfied: idna<4,>=2.5 in /usr/local/lib/python3.9/dist-packages (from requests>=2.0.0->requests-oauthlib>=0.7.0->google-auth-oauthlib>=0.4.1->gspread) (3.4)\n",
            "Requirement already satisfied: certifi>=2017.4.17 in /usr/local/lib/python3.9/dist-packages (from requests>=2.0.0->requests-oauthlib>=0.7.0->google-auth-oauthlib>=0.4.1->gspread) (2022.12.7)\n",
            "Requirement already satisfied: charset-normalizer~=2.0.0 in /usr/local/lib/python3.9/dist-packages (from requests>=2.0.0->requests-oauthlib>=0.7.0->google-auth-oauthlib>=0.4.1->gspread) (2.0.12)\n",
            "Drive already mounted at /content/drive; to attempt to forcibly remount, call drive.mount(\"/content/drive\", force_remount=True).\n",
            "/content\n",
            "['.config', 'drive', 'sample_data']\n",
            "['MyDrive', '.shortcut-targets-by-id', '.file-revisions-by-id', '.Trash-0']\n",
            "['Copy of CW_SH (2).gsheet', 'Copy of CW_SH (1).gsheet', 'new copy 150223.gsheet', 'Copy of CW_SH.gsheet', 'CW_SH.gsheet']\n",
            "\n",
            "Работаем с таблицей\n",
            "total 3\n",
            "-rw------- 1 root 172 Feb  8 15:18 'Copy of CW_SH (1).gsheet'\n",
            "-rw------- 1 root 172 Feb  7 14:06 'Copy of CW_SH (2).gsheet'\n",
            "-rw------- 1 root 172 Feb 15 08:04 'Copy of CW_SH.gsheet'\n",
            "-rw------- 1 root 172 Apr  9 13:32  CW_SH.gsheet\n",
            "-rw------- 1 root 172 Feb 15 07:51 'new copy 150223.gsheet'\n",
            "['__class__', '__delattr__', '__dict__', '__dir__', '__doc__', '__eq__', '__format__', '__ge__', '__getattribute__', '__gt__', '__hash__', '__init__', '__init_subclass__', '__iter__', '__le__', '__lt__', '__module__', '__ne__', '__new__', '__reduce__', '__reduce_ex__', '__repr__', '__setattr__', '__sizeof__', '__str__', '__subclasshook__', '__weakref__', '_properties', '_spreadsheets_get', '_spreadsheets_sheets_copy_to', 'accept_ownership', 'add_worksheet', 'batch_update', 'client', 'creationTime', 'del_worksheet', 'del_worksheet_by_id', 'duplicate_sheet', 'export', 'fetch_sheet_metadata', 'get_worksheet', 'get_worksheet_by_id', 'id', 'lastUpdateTime', 'list_named_ranges', 'list_permissions', 'list_protected_ranges', 'locale', 'named_range', 'remove_permissions', 'reorder_worksheets', 'share', 'sheet1', 'timezone', 'title', 'transfer_ownership', 'update_locale', 'update_timezone', 'update_title', 'updated', 'url', 'values_append', 'values_batch_clear', 'values_batch_get', 'values_batch_update', 'values_clear', 'values_get', 'values_update', 'worksheet', 'worksheets']\n"
          ]
        }
      ],
      "source": [
        "#@title ПОДКЛЮЧЕНИЕ К GDRIVE И GSHEET\n",
        "from google.colab import auth\n",
        "auth.authenticate_user()\n",
        "!pip install --upgrade gspread\n",
        "import gspread\n",
        "from google.colab import drive\n",
        "drive.mount('/content/drive')\n",
        "import os\n",
        "print(os.getcwd())\n",
        "print(os.listdir('./'))\n",
        "print(os.listdir('/content/drive'))\n",
        "print(os.listdir('/content/drive/MyDrive/Colab Notebooks/CW3y'))\n",
        "from google.auth import default\n",
        "creds, _ = default()\n",
        "gs = gspread.authorize(creds)\n",
        "\n",
        "\n",
        "import time\n",
        "print('\\nРаботаем с таблицей')\n",
        "%ll -lAF /content/drive/MyDrive/\"Colab Notebooks\"/CW3y/\n",
        "os.stat('/content/drive/MyDrive/Colab Notebooks/CW3y/CW_SH.gsheet')\n",
        "table = gs.open_by_key('1bsDTq-rsJxms25tELEUff5pIiwUUjy4GvK44469lS5g')\n",
        "print(dir(table))\n"
      ]
    },
    {
      "cell_type": "code",
      "execution_count": null,
      "metadata": {
        "cellView": "form",
        "id": "BAP167CJc_g6"
      },
      "outputs": [],
      "source": [
        "#@title\n",
        "# #@title CREATING A SPREADSHEET\n",
        "# new_spreadsheet = \"new\" #@param {type: \"string\"}\n",
        "# sh = gc.create(new_spreadsheet)\n",
        "# print('\\nРаботаем с таблицей')\n",
        "# %ll -lAF /content/drive/MyDrive/\"Colab Notebooks\"/CW3y/\n",
        "# os.stat('/content/drive/MyDrive/Colab Notebooks/SWOT1/TABLE.gsheet')\n",
        "# table = gs.open_by_key('1LSWFOVthquRnsqGwxX7eNQCzqY_j1fKd7fq8KUlQczo')\n",
        "# print(dir(table))"
      ]
    },
    {
      "cell_type": "code",
      "execution_count": null,
      "metadata": {
        "id": "0KyxAdK5O1KM"
      },
      "outputs": [],
      "source": [
        "#@title GETTING TEMPLATE SHEET \n",
        "worksheet = table.get_worksheet(0)"
      ]
    },
    {
      "cell_type": "code",
      "execution_count": null,
      "metadata": {
        "cellView": "form",
        "id": "IR8lOjNqh-F0"
      },
      "outputs": [],
      "source": [
        "#@title CREATING A NEW WORKSHEET (FROM A TEMPLATE)\n",
        "new_WS_name = \"\" #@param {type: \"string\"}\n",
        "index_to_put_the_sheet = \"3\" #@param [1,2,3,4,5,6,7,8,9,10]\n",
        "table.get_worksheet(0).duplicate(index_to_put_the_sheet, None, new_WS_name)\n",
        "#worksheet = table.add_worksheet(title=new_WS, rows=200, cols=15)\n",
        "worksheet = table.get_worksheet(int(index_to_put_the_sheet))"
      ]
    },
    {
      "cell_type": "code",
      "execution_count": null,
      "metadata": {
        "cellView": "form",
        "colab": {
          "base_uri": "https://localhost:8080/"
        },
        "id": "31ZOFcnDDa6G",
        "outputId": "1a077390-db16-4f2f-e6c0-cd91192b4f6f"
      },
      "outputs": [
        {
          "name": "stdout",
          "output_type": "stream",
          "text": [
            "Укажите количество критериев для решения задачи МАИ: 5\n",
            "Название нового критерия: 1\n",
            "Важность нового критерия(0-10): 2\n",
            "Название нового критерия: 1\n",
            "Важность нового критерия(0-10): 3\n",
            "Название нового критерия: 4\n",
            "Важность нового критерия(0-10): 6\n",
            "Название нового критерия: 6\n",
            "Важность нового критерия(0-10): 6\n",
            "Название нового критерия: 6\n",
            "Важность нового критерия(0-10): 6\n"
          ]
        }
      ],
      "source": [
        "#@title ASKING HOW MANY PARAMETERS + POWER (OF EACH)\n",
        "#print(\"How many parameters do you want to consider?\")\n",
        "num_param =int(input(\"Укажите количество критериев для решения задачи МАИ: \")) \n",
        "#param_names= []\n",
        "col_name = 3 \n",
        "for n in range(0,num_param): \n",
        "  param_name = input(\"Название нового критерия: \")\n",
        "  param_value = input(\"Важность нового критерия(0-10): \")\n",
        "  worksheet.update_cell(2,col_name, param_name)\n",
        "  worksheet.update_cell(3,col_name, param_value)\n",
        "  col_name += 3\n",
        " # param_names.append(a)\n",
        "\n",
        "\n",
        "\n",
        "#print(\"\\n\",inputed_num_param,\"\\n\")\n",
        "#print(\"\\n\",param_names,\"\\n\")"
      ]
    },
    {
      "cell_type": "code",
      "execution_count": null,
      "metadata": {
        "cellView": "form",
        "colab": {
          "base_uri": "https://localhost:8080/"
        },
        "id": "PhvbUQ36QmIZ",
        "outputId": "722c9296-d27d-4da7-91ed-ec52e651e3ae"
      },
      "outputs": [
        {
          "name": "stdout",
          "output_type": "stream",
          "text": [
            "Укажите количество альтернатив для решения задачи МАИ: 2\n",
            "--------------------------------------------------------\n",
            "Название новой альтернативы ф1\n",
            "Владение 1  критерием: \n"
          ]
        }
      ],
      "source": [
        "#@title ASKING HOW MANY OPTIONS + ABILITY (IN EACH PARAM)\n",
        "\n",
        "num_opt =int(input(\"Укажите количество альтернатив для решения задачи МАИ: \")) \n",
        "\n",
        "row_opt = 6\n",
        "\n",
        "for n in range(0,num_opt): \n",
        "  col_ab = 3\n",
        "  print(\"--------------------------------------------------------\")\n",
        "  opt_name = input(\"Название новой альтернативы \")\n",
        "  worksheet.update_cell(row_opt,1, opt_name)\n",
        "  for p in range(num_param):\n",
        "    print(\"Владение\",worksheet.cell(2,col_ab ).value , \" критерием: \")\n",
        "    ab_value = input()\n",
        "    worksheet.update_cell(row_opt,col_ab, ab_value)\n",
        "    col_ab += 3\n",
        "  row_opt += 1\n",
        " # param_names.append(a)\n",
        "\n",
        "\n",
        "\n",
        "#print(\"\\n\",inputed_num_param,\"\\n\")\n",
        "#print(\"\\n\",param_names,\"\\n\")"
      ]
    },
    {
      "cell_type": "code",
      "execution_count": null,
      "metadata": {
        "cellView": "form",
        "colab": {
          "background_save": true
        },
        "id": "9wGxHyOYlkan"
      },
      "outputs": [],
      "source": [
        "#@title etc.\n",
        "#%tensorboard --logdir logs"
      ]
    }
  ],
  "metadata": {
    "colab": {
      "provenance": [],
      "authorship_tag": "ABX9TyOe+AENBBjOxX8oTgtMscZW",
      "include_colab_link": true
    },
    "kernelspec": {
      "display_name": "Python 3",
      "name": "python3"
    },
    "language_info": {
      "name": "python"
    }
  },
  "nbformat": 4,
  "nbformat_minor": 0
}